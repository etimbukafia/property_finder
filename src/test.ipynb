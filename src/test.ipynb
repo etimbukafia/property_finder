{
 "cells": [
  {
   "cell_type": "code",
   "execution_count": 3,
   "metadata": {},
   "outputs": [],
   "source": [
    "from utils import llm"
   ]
  },
  {
   "cell_type": "code",
   "execution_count": 21,
   "metadata": {},
   "outputs": [],
   "source": [
    "from langchain_core.output_parsers import StrOutputParser"
   ]
  },
  {
   "cell_type": "code",
   "execution_count": 22,
   "metadata": {},
   "outputs": [],
   "source": [
    "parser = StrOutputParser()"
   ]
  },
  {
   "cell_type": "code",
   "execution_count": 76,
   "metadata": {},
   "outputs": [],
   "source": [
    "query = \"I need a charming home with a lovely front yard, shaded by small trees for a cozy and inviting atmosphere\""
   ]
  },
  {
   "cell_type": "code",
   "execution_count": 12,
   "metadata": {},
   "outputs": [],
   "source": [
    "from langchain_core.messages import HumanMessage, SystemMessage"
   ]
  },
  {
   "cell_type": "code",
   "execution_count": 32,
   "metadata": {},
   "outputs": [],
   "source": [
    "def prompt_message(llm, query, number):\n",
    "    messages = [\n",
    "        SystemMessage(content=\"\"\"\n",
    "            You are part of a real estate information system that processes user queries.\n",
    "\n",
    "            Your task is to expand a given real estate query into {{ number }} related queries. These expanded queries should be similar in meaning to the original query but offer different perspectives or keywords or keyword synonyms.\n",
    "\n",
    "            Structure:\n",
    "\n",
    "            Follow the structure shown below in examples to generate expanded queries.\n",
    "\n",
    "            Examples:\n",
    "\n",
    "            Example Query 1: \"affordable 2-bedroom apartments\"\n",
    "            Example Expanded Queries: [\"budget-friendly two-bedroom flats\", \"inexpensive two-bedroom apartments for rent\", \"cheap two-bedroom flats available\"]\n",
    "\n",
    "            Example Query 2: \"beautiful houses with a garden and swimming pool\"\n",
    "            Example Expanded Queries: [\"lovely properties with a backyard and private swimming pool\", \"villas featuring a landscaped garden and a sparkling swimming pool\", \"fine detached houses with outdoor space and a well-maintained pool\"]\n",
    "\n",
    "            Example Query 3: \"penthouse apartments with stunning views\"\n",
    "            Example Expanded Queries: [\"luxury penthouses with panoramic city views\", \"high-rise apartments overlooking the ocean\", \"exclusive penthouses with breathtaking mountain vistas\"]\n",
    "\n",
    "            Example Query 4: \"commercial properties for sale\"\n",
    "            Example Expanded Queries: [\"office spaces available for sale in prime business districts\", \"retail properties for purchase in high-traffic areas\", \"commercial real estate listings with excellent investment potential\"]\n",
    "\n",
    "            Example Query 5: \"rental properties near schools\"\n",
    "            Example Expanded Queries: [\"apartments or houses located within walking distance of top-rated schools\", \"properties in safe neighborhoods with easy access to educational institutions\", \"rental listings near universities or colleges\"]\n",
    "            Your Task:\n",
    "\n",
    "            Query: \"{{query}}\"\n",
    "\n",
    "            Example Expanded Queries:\n",
    "        \"\"\"),\n",
    "        HumanMessage(content=query)\n",
    "    ]\n",
    "\n",
    "    response = llm.invoke(messages)\n",
    "    return response"
   ]
  },
  {
   "cell_type": "code",
   "execution_count": 5,
   "metadata": {},
   "outputs": [],
   "source": [
    "from utils import llm"
   ]
  },
  {
   "cell_type": "code",
   "execution_count": 33,
   "metadata": {},
   "outputs": [],
   "source": [
    "query = \"I need a charming home with a lovely front yard, shaded by small trees for a cozy and inviting atmosphere\"\n",
    "expanded_queries = prompt_message(llm, query, 3)"
   ]
  },
  {
   "cell_type": "code",
   "execution_count": 31,
   "metadata": {},
   "outputs": [
    {
     "data": {
      "text/plain": [
       "AIMessage(content='[\"I\\'m looking for a charming house with a beautiful front yard, featuring small trees for a comfortable and inviting ambiance\",\\n\"Seeking a house with a lovely front yard, shaded by trees, creating a cozy atmosphere\",\\n\"Looking for a home with a charming front yard, surrounded by small trees for a welcoming feel\",\\n\"In search of a house with a delightful front yard, covered by trees for a cozy home experience\",\\n\"Requiring a house with a lovely front yard, shaded by petite trees for a comforting atmosphere\"]', response_metadata={'model': 'accounts/fireworks/models/mixtral-8x7b-instruct', 'finish_reason': 'stop'}, id='run-522945e7-04f7-4799-9011-5c5d912683b5-0')"
      ]
     },
     "execution_count": 31,
     "metadata": {},
     "output_type": "execute_result"
    }
   ],
   "source": [
    "expanded_queries"
   ]
  },
  {
   "cell_type": "code",
   "execution_count": 34,
   "metadata": {},
   "outputs": [
    {
     "data": {
      "text/plain": [
       "'[\"I\\'m looking for a delightful house with a charming front yard, featuring small trees for a comfortable and inviting ambiance\",\\n\"Seeking a home with a lovely front yard, shaded by delicate trees for a cozy atmosphere\",\\n\"Looking for a charming property with a beautiful front yard, shaded by petite trees for a welcoming setting\",\\n\"In search of a home with a lovely small tree-shaded front yard for a cozy atmosphere\",\\n\"Need to find a house with a delightful front yard, featuring petite trees for a cozy and inviting environment\"]'"
      ]
     },
     "execution_count": 34,
     "metadata": {},
     "output_type": "execute_result"
    }
   ],
   "source": [
    "parser.invoke(expanded_queries)"
   ]
  }
 ],
 "metadata": {
  "kernelspec": {
   "display_name": "real",
   "language": "python",
   "name": "python3"
  },
  "language_info": {
   "codemirror_mode": {
    "name": "ipython",
    "version": 3
   },
   "file_extension": ".py",
   "mimetype": "text/x-python",
   "name": "python",
   "nbconvert_exporter": "python",
   "pygments_lexer": "ipython3",
   "version": "3.9.12"
  }
 },
 "nbformat": 4,
 "nbformat_minor": 2
}
